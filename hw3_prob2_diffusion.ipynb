{
  "cells": [
    {
      "cell_type": "markdown",
      "metadata": {
        "id": "1mr5W7P-Ybhq"
      },
      "source": [
        "## Setup and Imports:"
      ]
    },
    {
      "cell_type": "code",
      "execution_count": null,
      "metadata": {
        "id": "Zxnsqe0MQ0m4"
      },
      "outputs": [],
      "source": [
        "%pip install -q diffusers"
      ]
    },
    {
      "cell_type": "code",
      "execution_count": null,
      "metadata": {
        "colab": {
          "base_uri": "https://localhost:8080/"
        },
        "id": "xSMLegmvLLJe",
        "outputId": "fed6db3d-ae80-4ef9-ed71-2eef4ff5a9aa"
      },
      "outputs": [
        {
          "name": "stdout",
          "output_type": "stream",
          "text": [
            "Using device: cuda\n"
          ]
        }
      ],
      "source": [
        "import torch\n",
        "import torchvision\n",
        "from torch import nn\n",
        "from torch.nn import functional as F\n",
        "from torch.utils.data import DataLoader\n",
        "from diffusers import DDPMScheduler, DDIMScheduler, UNet2DModel\n",
        "from matplotlib import pyplot as plt\n",
        "\n",
        "device = torch.device(\"cuda\" if torch.cuda.is_available() else \"cpu\")\n",
        "print(f'Using device: {device}')"
      ]
    },
    {
      "cell_type": "markdown",
      "metadata": {
        "id": "Mo5cT4p6Lrr1"
      },
      "source": [
        "## The Data\n",
        "\n",
        "Here we're going to test things with a very small dataset: mnist. If you'd like to give the model a slightly harder challenge without changing anything else, torchvision.datasets.FashionMNIST should work as a drop-in replacement."
      ]
    },
    {
      "cell_type": "code",
      "execution_count": null,
      "metadata": {
        "collapsed": true,
        "id": "NXDAAQ5DLhwK",
        "jupyter": {
          "outputs_hidden": true
        }
      },
      "outputs": [],
      "source": [
        "dataset = torchvision.datasets.MNIST(root=\"mnist/\", train=True, download=True, transform=torchvision.transforms.ToTensor())"
      ]
    },
    {
      "cell_type": "code",
      "execution_count": null,
      "metadata": {
        "id": "X2-vZK8aLii_"
      },
      "outputs": [],
      "source": [
        "#changed batch size to 256 for quicker execution\n",
        "train_dataloader = DataLoader(dataset, batch_size=256, shuffle=True)"
      ]
    },
    {
      "cell_type": "code",
      "execution_count": null,
      "metadata": {
        "colab": {
          "base_uri": "https://localhost:8080/",
          "height": 166
        },
        "id": "hBD5PA34Lqrf",
        "outputId": "4e708455-1dc1-47a8-ff7e-6889fa206280"
      },
      "outputs": [
        {
          "name": "stdout",
          "output_type": "stream",
          "text": [
            "Input shape: torch.Size([8, 1, 28, 28])\n",
            "Labels: tensor([6, 2, 7, 1, 1, 5, 2, 7])\n"
          ]
        },
        {
          "data": {
            "image/png": "[encoded data removed]",
            "text/plain": [
              "<Figure size 640x480 with 1 Axes>"
            ]
          },
          "metadata": {},
          "output_type": "display_data"
        }
      ],
      "source": [
        "x, y = next(iter(train_dataloader))\n",
        "print('Input shape:', x.shape)\n",
        "print('Labels:', y)\n",
        "plt.imshow(torchvision.utils.make_grid(x)[0], cmap='Greys');"
      ]
    },
    {
      "cell_type": "markdown",
      "metadata": {
        "id": "Q387XhREdfbI"
      },
      "source": [
        "Each image is a greyscale 28px by 28px drawing of a digit, with values ranging from 0 to 1."
      ]
    },
    {
      "cell_type": "markdown",
      "metadata": {
        "id": "ZNe55KwUSiTW"
      },
      "source": [
        "## DDPM and DDIM\n",
        "\n",
        "*   We will use model `UNet2DModel` from `diffuser`.\n",
        "*   The training objective is by defaultg predicting the noise rather than the denoised image.\n",
        "*   The model is conditioned on the amount of noise present via timestep conditioning, where t is passed as an additional argument to the forward method.\n",
        "*   We will explore two sampling strategies: DDPM and DDIM."
      ]
    },
    {
      "cell_type": "markdown",
      "metadata": {
        "id": "li3R8czNUPTe"
      },
      "source": [
        "### The `UNet2DModel`\n",
        "\n",
        "*   GroupNorm applies group normalization to the inputs of each block\n",
        "*   Dropout layers for smoother training\n",
        "*   Multiple resnet layers per block (if layers_per_block isn't set to 1)\n",
        "*   Attention (usually used only at lower resolution blocks)\n",
        "*   Conditioning on the timestep.\n",
        "*   Downsampling and upsampling blocks with learnable parameters"
      ]
    },
    {
      "cell_type": "code",
      "execution_count": null,
      "metadata": {
        "colab": {
          "base_uri": "https://localhost:8080/"
        },
        "id": "YWOGYGj3U7tR",
        "outputId": "0f5f1994-3bca-4581-c409-0cb0417058b3"
      },
      "outputs": [
        {
          "name": "stdout",
          "output_type": "stream",
          "text": [
            "UNet2DModel(\n",
            "  (conv_in): Conv2d(1, 32, kernel_size=(3, 3), stride=(1, 1), padding=(1, 1))\n",
            "  (time_proj): Timesteps()\n",
            "  (time_embedding): TimestepEmbedding(\n",
            "    (linear_1): Linear(in_features=32, out_features=128, bias=True)\n",
            "    (act): SiLU()\n",
            "    (linear_2): Linear(in_features=128, out_features=128, bias=True)\n",
            "  )\n",
            "  (down_blocks): ModuleList(\n",
            "    (0): DownBlock2D(\n",
            "      (resnets): ModuleList(\n",
            "        (0-1): 2 x ResnetBlock2D(\n",
            "          (norm1): GroupNorm(32, 32, eps=1e-05, affine=True)\n",
            "          (conv1): Conv2d(32, 32, kernel_size=(3, 3), stride=(1, 1), padding=(1, 1))\n",
            "          (time_emb_proj): Linear(in_features=128, out_features=32, bias=True)\n",
            "          (norm2): GroupNorm(32, 32, eps=1e-05, affine=True)\n",
            "          (dropout): Dropout(p=0.0, inplace=False)\n",
            "          (conv2): Conv2d(32, 32, kernel_size=(3, 3), stride=(1, 1), padding=(1, 1))\n",
            "          (nonlinearity): SiLU()\n",
            "        )\n",
            "      )\n",
            "      (downsamplers): ModuleList(\n",
            "        (0): Downsample2D(\n",
            "          (conv): Conv2d(32, 32, kernel_size=(3, 3), stride=(2, 2), padding=(1, 1))\n",
            "        )\n",
            "      )\n",
            "    )\n",
            "    (1): AttnDownBlock2D(\n",
            "      (attentions): ModuleList(\n",
            "        (0-1): 2 x Attention(\n",
            "          (group_norm): GroupNorm(32, 64, eps=1e-05, affine=True)\n",
            "          (to_q): Linear(in_features=64, out_features=64, bias=True)\n",
            "          (to_k): Linear(in_features=64, out_features=64, bias=True)\n",
            "          (to_v): Linear(in_features=64, out_features=64, bias=True)\n",
            "          (to_out): ModuleList(\n",
            "            (0): Linear(in_features=64, out_features=64, bias=True)\n",
            "            (1): Dropout(p=0.0, inplace=False)\n",
            "          )\n",
            "        )\n",
            "      )\n",
            "      (resnets): ModuleList(\n",
            "        (0): ResnetBlock2D(\n",
            "          (norm1): GroupNorm(32, 32, eps=1e-05, affine=True)\n",
            "          (conv1): Conv2d(32, 64, kernel_size=(3, 3), stride=(1, 1), padding=(1, 1))\n",
            "          (time_emb_proj): Linear(in_features=128, out_features=64, bias=True)\n",
            "          (norm2): GroupNorm(32, 64, eps=1e-05, affine=True)\n",
            "          (dropout): Dropout(p=0.0, inplace=False)\n",
            "          (conv2): Conv2d(64, 64, kernel_size=(3, 3), stride=(1, 1), padding=(1, 1))\n",
            "          (nonlinearity): SiLU()\n",
            "          (conv_shortcut): Conv2d(32, 64, kernel_size=(1, 1), stride=(1, 1))\n",
            "        )\n",
            "        (1): ResnetBlock2D(\n",
            "          (norm1): GroupNorm(32, 64, eps=1e-05, affine=True)\n",
            "          (conv1): Conv2d(64, 64, kernel_size=(3, 3), stride=(1, 1), padding=(1, 1))\n",
            "          (time_emb_proj): Linear(in_features=128, out_features=64, bias=True)\n",
            "          (norm2): GroupNorm(32, 64, eps=1e-05, affine=True)\n",
            "          (dropout): Dropout(p=0.0, inplace=False)\n",
            "          (conv2): Conv2d(64, 64, kernel_size=(3, 3), stride=(1, 1), padding=(1, 1))\n",
            "          (nonlinearity): SiLU()\n",
            "        )\n",
            "      )\n",
            "      (downsamplers): ModuleList(\n",
            "        (0): Downsample2D(\n",
            "          (conv): Conv2d(64, 64, kernel_size=(3, 3), stride=(2, 2), padding=(1, 1))\n",
            "        )\n",
            "      )\n",
            "    )\n",
            "    (2): AttnDownBlock2D(\n",
            "      (attentions): ModuleList(\n",
            "        (0-1): 2 x Attention(\n",
            "          (group_norm): GroupNorm(32, 64, eps=1e-05, affine=True)\n",
            "          (to_q): Linear(in_features=64, out_features=64, bias=True)\n",
            "          (to_k): Linear(in_features=64, out_features=64, bias=True)\n",
            "          (to_v): Linear(in_features=64, out_features=64, bias=True)\n",
            "          (to_out): ModuleList(\n",
            "            (0): Linear(in_features=64, out_features=64, bias=True)\n",
            "            (1): Dropout(p=0.0, inplace=False)\n",
            "          )\n",
            "        )\n",
            "      )\n",
            "      (resnets): ModuleList(\n",
            "        (0-1): 2 x ResnetBlock2D(\n",
            "          (norm1): GroupNorm(32, 64, eps=1e-05, affine=True)\n",
            "          (conv1): Conv2d(64, 64, kernel_size=(3, 3), stride=(1, 1), padding=(1, 1))\n",
            "          (time_emb_proj): Linear(in_features=128, out_features=64, bias=True)\n",
            "          (norm2): GroupNorm(32, 64, eps=1e-05, affine=True)\n",
            "          (dropout): Dropout(p=0.0, inplace=False)\n",
            "          (conv2): Conv2d(64, 64, kernel_size=(3, 3), stride=(1, 1), padding=(1, 1))\n",
            "          (nonlinearity): SiLU()\n",
            "        )\n",
            "      )\n",
            "    )\n",
            "  )\n",
            "  (up_blocks): ModuleList(\n",
            "    (0): AttnUpBlock2D(\n",
            "      (attentions): ModuleList(\n",
            "        (0-2): 3 x Attention(\n",
            "          (group_norm): GroupNorm(32, 64, eps=1e-05, affine=True)\n",
            "          (to_q): Linear(in_features=64, out_features=64, bias=True)\n",
            "          (to_k): Linear(in_features=64, out_features=64, bias=True)\n",
            "          (to_v): Linear(in_features=64, out_features=64, bias=True)\n",
            "          (to_out): ModuleList(\n",
            "            (0): Linear(in_features=64, out_features=64, bias=True)\n",
            "            (1): Dropout(p=0.0, inplace=False)\n",
            "          )\n",
            "        )\n",
            "      )\n",
            "      (resnets): ModuleList(\n",
            "        (0-2): 3 x ResnetBlock2D(\n",
            "          (norm1): GroupNorm(32, 128, eps=1e-05, affine=True)\n",
            "          (conv1): Conv2d(128, 64, kernel_size=(3, 3), stride=(1, 1), padding=(1, 1))\n",
            "          (time_emb_proj): Linear(in_features=128, out_features=64, bias=True)\n",
            "          (norm2): GroupNorm(32, 64, eps=1e-05, affine=True)\n",
            "          (dropout): Dropout(p=0.0, inplace=False)\n",
            "          (conv2): Conv2d(64, 64, kernel_size=(3, 3), stride=(1, 1), padding=(1, 1))\n",
            "          (nonlinearity): SiLU()\n",
            "          (conv_shortcut): Conv2d(128, 64, kernel_size=(1, 1), stride=(1, 1))\n",
            "        )\n",
            "      )\n",
            "      (upsamplers): ModuleList(\n",
            "        (0): Upsample2D(\n",
            "          (conv): Conv2d(64, 64, kernel_size=(3, 3), stride=(1, 1), padding=(1, 1))\n",
            "        )\n",
            "      )\n",
            "    )\n",
            "    (1): AttnUpBlock2D(\n",
            "      (attentions): ModuleList(\n",
            "        (0-2): 3 x Attention(\n",
            "          (group_norm): GroupNorm(32, 64, eps=1e-05, affine=True)\n",
            "          (to_q): Linear(in_features=64, out_features=64, bias=True)\n",
            "          (to_k): Linear(in_features=64, out_features=64, bias=True)\n",
            "          (to_v): Linear(in_features=64, out_features=64, bias=True)\n",
            "          (to_out): ModuleList(\n",
            "            (0): Linear(in_features=64, out_features=64, bias=True)\n",
            "            (1): Dropout(p=0.0, inplace=False)\n",
            "          )\n",
            "        )\n",
            "      )\n",
            "      (resnets): ModuleList(\n",
            "        (0-1): 2 x ResnetBlock2D(\n",
            "          (norm1): GroupNorm(32, 128, eps=1e-05, affine=True)\n",
            "          (conv1): Conv2d(128, 64, kernel_size=(3, 3), stride=(1, 1), padding=(1, 1))\n",
            "          (time_emb_proj): Linear(in_features=128, out_features=64, bias=True)\n",
            "          (norm2): GroupNorm(32, 64, eps=1e-05, affine=True)\n",
            "          (dropout): Dropout(p=0.0, inplace=False)\n",
            "          (conv2): Conv2d(64, 64, kernel_size=(3, 3), stride=(1, 1), padding=(1, 1))\n",
            "          (nonlinearity): SiLU()\n",
            "          (conv_shortcut): Conv2d(128, 64, kernel_size=(1, 1), stride=(1, 1))\n",
            "        )\n",
            "        (2): ResnetBlock2D(\n",
            "          (norm1): GroupNorm(32, 96, eps=1e-05, affine=True)\n",
            "          (conv1): Conv2d(96, 64, kernel_size=(3, 3), stride=(1, 1), padding=(1, 1))\n",
            "          (time_emb_proj): Linear(in_features=128, out_features=64, bias=True)\n",
            "          (norm2): GroupNorm(32, 64, eps=1e-05, affine=True)\n",
            "          (dropout): Dropout(p=0.0, inplace=False)\n",
            "          (conv2): Conv2d(64, 64, kernel_size=(3, 3), stride=(1, 1), padding=(1, 1))\n",
            "          (nonlinearity): SiLU()\n",
            "          (conv_shortcut): Conv2d(96, 64, kernel_size=(1, 1), stride=(1, 1))\n",
            "        )\n",
            "      )\n",
            "      (upsamplers): ModuleList(\n",
            "        (0): Upsample2D(\n",
            "          (conv): Conv2d(64, 64, kernel_size=(3, 3), stride=(1, 1), padding=(1, 1))\n",
            "        )\n",
            "      )\n",
            "    )\n",
            "    (2): UpBlock2D(\n",
            "      (resnets): ModuleList(\n",
            "        (0): ResnetBlock2D(\n",
            "          (norm1): GroupNorm(32, 96, eps=1e-05, affine=True)\n",
            "          (conv1): Conv2d(96, 32, kernel_size=(3, 3), stride=(1, 1), padding=(1, 1))\n",
            "          (time_emb_proj): Linear(in_features=128, out_features=32, bias=True)\n",
            "          (norm2): GroupNorm(32, 32, eps=1e-05, affine=True)\n",
            "          (dropout): Dropout(p=0.0, inplace=False)\n",
            "          (conv2): Conv2d(32, 32, kernel_size=(3, 3), stride=(1, 1), padding=(1, 1))\n",
            "          (nonlinearity): SiLU()\n",
            "          (conv_shortcut): Conv2d(96, 32, kernel_size=(1, 1), stride=(1, 1))\n",
            "        )\n",
            "        (1-2): 2 x ResnetBlock2D(\n",
            "          (norm1): GroupNorm(32, 64, eps=1e-05, affine=True)\n",
            "          (conv1): Conv2d(64, 32, kernel_size=(3, 3), stride=(1, 1), padding=(1, 1))\n",
            "          (time_emb_proj): Linear(in_features=128, out_features=32, bias=True)\n",
            "          (norm2): GroupNorm(32, 32, eps=1e-05, affine=True)\n",
            "          (dropout): Dropout(p=0.0, inplace=False)\n",
            "          (conv2): Conv2d(32, 32, kernel_size=(3, 3), stride=(1, 1), padding=(1, 1))\n",
            "          (nonlinearity): SiLU()\n",
            "          (conv_shortcut): Conv2d(64, 32, kernel_size=(1, 1), stride=(1, 1))\n",
            "        )\n",
            "      )\n",
            "    )\n",
            "  )\n",
            "  (mid_block): UNetMidBlock2D(\n",
            "    (attentions): ModuleList(\n",
            "      (0): Attention(\n",
            "        (group_norm): GroupNorm(32, 64, eps=1e-05, affine=True)\n",
            "        (to_q): Linear(in_features=64, out_features=64, bias=True)\n",
            "        (to_k): Linear(in_features=64, out_features=64, bias=True)\n",
            "        (to_v): Linear(in_features=64, out_features=64, bias=True)\n",
            "        (to_out): ModuleList(\n",
            "          (0): Linear(in_features=64, out_features=64, bias=True)\n",
            "          (1): Dropout(p=0.0, inplace=False)\n",
            "        )\n",
            "      )\n",
            "    )\n",
            "    (resnets): ModuleList(\n",
            "      (0-1): 2 x ResnetBlock2D(\n",
            "        (norm1): GroupNorm(32, 64, eps=1e-05, affine=True)\n",
            "        (conv1): Conv2d(64, 64, kernel_size=(3, 3), stride=(1, 1), padding=(1, 1))\n",
            "        (time_emb_proj): Linear(in_features=128, out_features=64, bias=True)\n",
            "        (norm2): GroupNorm(32, 64, eps=1e-05, affine=True)\n",
            "        (dropout): Dropout(p=0.0, inplace=False)\n",
            "        (conv2): Conv2d(64, 64, kernel_size=(3, 3), stride=(1, 1), padding=(1, 1))\n",
            "        (nonlinearity): SiLU()\n",
            "      )\n",
            "    )\n",
            "  )\n",
            "  (conv_norm_out): GroupNorm(32, 32, eps=1e-05, affine=True)\n",
            "  (conv_act): SiLU()\n",
            "  (conv_out): Conv2d(32, 1, kernel_size=(3, 3), stride=(1, 1), padding=(1, 1))\n",
            ")\n"
          ]
        }
      ],
      "source": [
        "model = UNet2DModel(\n",
        "    sample_size=28,           # the target image resolution\n",
        "    in_channels=1,            # the number of input channels, 3 for RGB images\n",
        "    out_channels=1,           # the number of output channels\n",
        "    layers_per_block=2,       # how many ResNet layers to use per UNet block\n",
        "    block_out_channels=(32, 64, 64), # Roughly matching our basic unet example\n",
        "    down_block_types=(\n",
        "        \"DownBlock2D\",        # a regular ResNet downsampling block\n",
        "        \"AttnDownBlock2D\",    # a ResNet downsampling block with spatial self-attention\n",
        "        \"AttnDownBlock2D\",\n",
        "    ),\n",
        "    up_block_types=(\n",
        "        \"AttnUpBlock2D\",\n",
        "        \"AttnUpBlock2D\",      # a ResNet upsampling block with spatial self-attention\n",
        "        \"UpBlock2D\",          # a regular ResNet upsampling block\n",
        "      ),\n",
        ")\n",
        "print(model)"
      ]
    },
    {
      "cell_type": "code",
      "execution_count": null,
      "metadata": {
        "colab": {
          "base_uri": "https://localhost:8080/"
        },
        "id": "o-qwAZhsQd0x",
        "outputId": "93122511-b036-4b9c-eccb-daffb683570c"
      },
      "outputs": [
        {
          "data": {
            "text/plain": [
              "1707009"
            ]
          },
          "execution_count": 17,
          "metadata": {},
          "output_type": "execute_result"
        }
      ],
      "source": [
        "sum([p.numel() for p in model.parameters()]) # 1.7M"
      ]
    },
    {
      "cell_type": "code",
      "execution_count": null,
      "metadata": {
        "colab": {
          "base_uri": "https://localhost:8080/",
          "height": 430
        },
        "id": "4i-6hb4sYG_t",
        "outputId": "ef589c64-b6d7-4734-81ac-feae6baef014"
      },
      "outputs": [
        {
          "data": {
            "image/png": "[encoded data removed]",
            "text/plain": [
              "<Figure size 640x480 with 1 Axes>"
            ]
          },
          "metadata": {},
          "output_type": "display_data"
        }
      ],
      "source": [
        "noise_scheduler = DDPMScheduler(num_train_timesteps=1000)\n",
        "plt.plot(noise_scheduler.alphas_cumprod.cpu() ** 0.5, label=r\"${\\sqrt{\\bar{\\alpha}_t}}$\")\n",
        "plt.plot((1 - noise_scheduler.alphas_cumprod.cpu()) ** 0.5, label=r\"$\\sqrt{(1 - \\bar{\\alpha}_t)}$\")\n",
        "plt.legend(fontsize=\"x-large\");"
      ]
    },
    {
      "cell_type": "code",
      "execution_count": null,
      "metadata": {},
      "outputs": [],
      "source": [
        "import torch.nn as nn\n",
        "import torch.optim as optim\n",
        "from torch.cuda.amp import autocast, GradScaler\n",
        "\n",
        "\n",
        "scaler = torch.GradScaler()\n",
        "\n",
        "optimizer = optim.AdamW(model.parameters(),lr=1e-4)\n",
        "\n",
        "\n",
        "device = torch.device(\"cuda\" if torch.cuda.is_available() else \"cpu\")\n",
        "model.to(device)\n",
        "\n",
        "#for plotting training curve\n",
        "losses = []\n",
        "steps = []\n",
        "\n",
        "step_num = 0\n",
        "\n",
        "print(train_dataloader)\n",
        "\n",
        "for i in enumerate(train_dataloader):\n",
        "    i[1][0] = i[1][0].to(device)\n",
        "\n",
        "\n",
        "    noise_sample = torch.randn_like(i[1][0])\n",
        "\n",
        "    timesteps = torch.randint(0, noise_scheduler.config.num_train_timesteps,(i[1][0].shape[0],),device=device).long()\n",
        "    \n",
        "    images_with_added_noise = noise_scheduler.add_noise(i[1][0],noise_sample,timesteps)\n",
        "\n",
        "    loss = 0\n",
        "\n",
        "    with autocast():\n",
        "\n",
        "          predict_noise = model(images_with_added_noise,timesteps).sample\n",
        "          loss = nn.functional.mse_loss(predict_noise,noise_sample)\n",
        "\n",
        "\n",
        "    optimizer.zero_grad()\n",
        "\n",
        "    scaler.scale(loss).backward()\n",
        "    scaler.step(optimizer)\n",
        "    scaler.update()\n",
        "\n",
        "\n",
        "    if step_num % 50 == 0:\n",
        "        print(\"Step: \",step_num,\" Loss: \", loss.item())\n",
        "\n",
        "    steps.append(step_num)\n",
        "    losses.append(loss)\n",
        "\n",
        "    step_num += 1\n",
        "\n",
        "\n",
        "\n",
        "\n",
        "\n",
        "#plot training loss curve\n",
        "plt.plot(steps, [loss.cpu().item() for loss in losses])\n",
        "plt.xlabel(\"Step\")\n",
        "plt.ylabel(\"Training Loss\")\n",
        "plt.title(\"DDPM Training Loss Curve\")\n",
        "plt.show()"
      ]
    },
    {
      "cell_type": "code",
      "execution_count": null,
      "metadata": {},
      "outputs": [],
      "source": [
        "\n",
        "#generate the 4 sample images\n",
        "\n",
        "model.eval()\n",
        "noise_sample = torch.randn((4,1,28,28), device=device)\n",
        "noise_scheduler.set_timesteps(100)\n",
        "\n",
        "with torch.no_grad():\n",
        "    for timestep in noise_scheduler.timesteps:\n",
        "        predict_noise = model(noise_sample,torch.tensor([timestep]*4,device=device)).sample\n",
        "        noise = noise_scheduler.step(predict_noise,timestep,noise_sample).prev_sample\n",
        "\n",
        "\n",
        "plot = plt.subplots(1,4,figsize=(15,8))\n",
        "\n",
        "for i in range(4):\n",
        "    plot[1][i].imshow(noise[i].squeeze().cpu().numpy(),cmap=\"gray\")\n",
        "    plot[1][i].axis(\"off\")\n",
        "    \n",
        "plt.show()"
      ]
    },
    {
      "cell_type": "markdown",
      "metadata": {},
      "source": [
        "DDIM for noise prediction"
      ]
    },
    {
      "cell_type": "code",
      "execution_count": null,
      "metadata": {},
      "outputs": [],
      "source": [
        "#new model to use with DDIM scheduler\n",
        "\n",
        "model = UNet2DModel(\n",
        "    sample_size=28,           # the target image resolution\n",
        "    in_channels=1,            # the number of input channels, 3 for RGB images\n",
        "    out_channels=1,           # the number of output channels\n",
        "    layers_per_block=2,       # how many ResNet layers to use per UNet block\n",
        "    block_out_channels=(32, 64, 64), # Roughly matching our basic unet example\n",
        "    down_block_types=(\n",
        "        \"DownBlock2D\",        # a regular ResNet downsampling block\n",
        "        \"AttnDownBlock2D\",    # a ResNet downsampling block with spatial self-attention\n",
        "        \"AttnDownBlock2D\",\n",
        "    ),\n",
        "    up_block_types=(\n",
        "        \"AttnUpBlock2D\",\n",
        "        \"AttnUpBlock2D\",      # a ResNet upsampling block with spatial self-attention\n",
        "        \"UpBlock2D\",          # a regular ResNet upsampling block\n",
        "      ),\n",
        ")\n",
        "print(model)"
      ]
    },
    {
      "cell_type": "code",
      "execution_count": null,
      "metadata": {},
      "outputs": [],
      "source": [
        "noise_scheduler = DDIMScheduler(num_train_timesteps=1000)\n",
        "plt.plot(noise_scheduler.alphas_cumprod.cpu() ** 0.5, label=r\"${\\sqrt{\\bar{\\alpha}_t}}$\")\n",
        "plt.plot((1 - noise_scheduler.alphas_cumprod.cpu()) ** 0.5, label=r\"$\\sqrt{(1 - \\bar{\\alpha}_t)}$\")\n",
        "plt.legend(fontsize=\"x-large\");"
      ]
    },
    {
      "cell_type": "code",
      "execution_count": null,
      "metadata": {},
      "outputs": [],
      "source": [
        "import torch.nn as nn\n",
        "import torch.optim as optim\n",
        "from torch.cuda.amp import autocast, GradScaler\n",
        "\n",
        "\n",
        "scaler = torch.GradScaler()\n",
        "\n",
        "optimizer = optim.AdamW(model.parameters(),lr=1e-4)\n",
        "\n",
        "\n",
        "device = torch.device(\"cuda\" if torch.cuda.is_available() else \"cpu\")\n",
        "model.to(device)\n",
        "\n",
        "#for plotting training curve\n",
        "losses = []\n",
        "steps = []\n",
        "\n",
        "step_num = 0\n",
        "\n",
        "print(train_dataloader)\n",
        "\n",
        "for i in enumerate(train_dataloader):\n",
        "    i[1][0] = i[1][0].to(device)\n",
        "\n",
        "\n",
        "    noise_sample = torch.randn_like(i[1][0])\n",
        "\n",
        "    timesteps = torch.randint(0,noise_scheduler.config.num_train_timesteps,(i[1][0].shape[0],),device=device).long()\n",
        "    \n",
        "    images_with_added_noise = noise_scheduler.add_noise(i[1][0],noise_sample,timesteps)\n",
        "\n",
        "    loss = 0\n",
        "\n",
        "    with autocast():\n",
        "\n",
        "          predict_noise = model(images_with_added_noise, timesteps).sample\n",
        "          loss = nn.functional.mse_loss(predict_noise,noise_sample)\n",
        "\n",
        "\n",
        "    optimizer.zero_grad()\n",
        "\n",
        "    scaler.scale(loss).backward()\n",
        "    scaler.step(optimizer)\n",
        "    scaler.update()\n",
        "\n",
        "\n",
        "    if step_num % 50 == 0:\n",
        "        print(\"Step: \",step_num,\" Loss: \", loss.item())\n",
        "\n",
        "    steps.append(step_num)\n",
        "    losses.append(loss)\n",
        "\n",
        "    step_num += 1\n",
        "\n",
        "\n",
        "\n",
        "\n",
        "\n",
        "#plot training loss curve\n",
        "plt.plot(steps, [loss.cpu().item() for loss in losses])\n",
        "plt.xlabel(\"Step\")\n",
        "plt.ylabel(\"Training Loss\")\n",
        "plt.title(\"DDIM Training Loss Curve\")\n",
        "plt.show()"
      ]
    },
    {
      "cell_type": "code",
      "execution_count": null,
      "metadata": {},
      "outputs": [],
      "source": [
        "\n",
        "#generate the 4 sample images\n",
        "\n",
        "model.eval()\n",
        "noise_sample = torch.randn((4,1,28,28), device=device)\n",
        "noise_scheduler.set_timesteps(100)\n",
        "\n",
        "with torch.no_grad():\n",
        "    for timestep in noise_scheduler.timesteps:\n",
        "        predict_noise = model(noise_sample,torch.tensor([timestep]*4,device=device)).sample\n",
        "        noise = noise_scheduler.step(predict_noise,timestep,noise_sample).prev_sample\n",
        "\n",
        "\n",
        "plot = plt.subplots(1,4,figsize=(15,8))\n",
        "\n",
        "for i in range(4):\n",
        "    plot[1][i].imshow(noise[i].squeeze().cpu().numpy(),cmap=\"gray\")\n",
        "    plot[1][i].axis(\"off\")\n",
        "    \n",
        "plt.show()"
      ]
    }
  ],
  "metadata": {
    "accelerator": "GPU",
    "colab": {
      "provenance": [],
      "toc_visible": true
    },
    "gpuClass": "standard",
    "kernelspec": {
      "display_name": "Python 3 (ipykernel)",
      "language": "python",
      "name": "python3"
    },
    "language_info": {
      "codemirror_mode": {
        "name": "ipython",
        "version": 3
      },
      "file_extension": ".py",
      "mimetype": "text/x-python",
      "name": "python",
      "nbconvert_exporter": "python",
      "pygments_lexer": "ipython3",
      "version": "3.10.8"
    }
  },
  "nbformat": 4,
  "nbformat_minor": 0
}
